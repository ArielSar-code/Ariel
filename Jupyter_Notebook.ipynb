{
 "cells": [
  {
   "cell_type": "markdown",
   "metadata": {},
   "source": [
    "# Título del Cuaderno  "
   ]
  },
  {
   "cell_type": "markdown",
   "metadata": {},
   "source": [
    "# Análisis Exploratorio de Datos en Python"
   ]
  },
  {
   "cell_type": "markdown",
   "metadata": {},
   "source": [
    "## Introducción  \n",
    "\n",
    "Este cuaderno tiene como objetivo mostrar ejemplos básicos de **ciencia de datos**, incluyendo operaciones aritméticas, listado de bibliotecas, herramientas y objetivos principales.  \n",
    "\n",
    "A lo largo del cuaderno, aprenderemos a:  \n",
    "- Crear y ejecutar celdas de código.  \n",
    "- Usar celdas Markdown para documentar el trabajo.  \n",
    "- Realizar operaciones simples y mostrar resultados.  \n"
   ]
  },
  {
   "cell_type": "markdown",
   "metadata": {},
   "source": [
    "## Lenguajes utilizados en Ciencia de Datos  \n",
    "\n",
    "Los principales lenguajes que se utilizan en **Ciencia de Datos** son:  \n",
    "\n",
    "- **Python**  \n",
    "- **R**  \n",
    "- **SQL**  \n",
    "- **Julia**  \n",
    "- **Scala**  \n",
    "- **Java**  \n",
    "- **C++**  \n",
    "- **MATLAB**  \n"
   ]
  },
  {
   "cell_type": "markdown",
   "metadata": {},
   "source": [
    "## Bibliotecas de Ciencia de Datos  \n",
    "\n",
    "Algunas de las bibliotecas más utilizadas en **Ciencia de Datos** son:  \n",
    "\n",
    "- **NumPy** → Para cálculo numérico y manejo de arreglos.  \n",
    "- **Pandas** → Para análisis y manipulación de datos.  \n",
    "- **Matplotlib** → Para visualización de datos.  \n",
    "- **Seaborn** → Para gráficos estadísticos avanzados.  \n",
    "- **Scikit-learn** → Para aprendizaje automático.  \n",
    "- **TensorFlow** → Para aprendizaje profundo (Deep Learning).  \n",
    "- **Keras** → API de alto nivel para redes neuronales.  \n",
    "- **SciPy** → Para cálculos científicos y técnicos.  \n",
    "- **Statsmodels** → Para análisis estadístico.  \n"
   ]
  },
  {
   "cell_type": "markdown",
   "metadata": {},
   "source": [
    "## Herramientas de Ciencia de Datos  \n",
    "\n",
    "| Herramienta         | Descripción                                     |\n",
    "|---------------------|-------------------------------------------------|\n",
    "| **Jupyter Notebook** | Entorno interactivo para análisis y visualización |\n",
    "| **RStudio**         | IDE para análisis estadístico y visualización   |\n",
    "| **Apache Spark**    | Procesamiento de grandes volúmenes de datos     |\n",
    "| **TensorFlow**      | Biblioteca para aprendizaje profundo            |\n",
    "| **Power BI**        | Visualización y análisis de datos empresariales |\n"
   ]
  },
  {
   "cell_type": "markdown",
   "metadata": {},
   "source": [
    "## Ejemplos de Expresiones Aritméticas  \n",
    "\n",
    "Algunos ejemplos de expresiones aritméticas en Python son:  \n",
    "\n",
    "- **Suma:** `3 + 5 = 8`  \n",
    "- **Resta:** `10 - 4 = 6`  \n",
    "- **Multiplicación:** `7 * 6 = 42`  \n",
    "- **División:** `20 / 4 = 5.0`  \n",
    "- **Módulo (resto):** `10 % 3 = 1`  \n",
    "- **Potencia:** `2 ** 3 = 8`  \n"
   ]
  },
  {
   "cell_type": "markdown",
   "metadata": {},
   "source": [
    "# Multiplicar y sumar números\n",
    "\n",
    "a = 5\n",
    "b = 3\n",
    "\n",
    "multiplicacion = a * b\n",
    "suma = a + b\n",
    "\n",
    "print(\"La multiplicación es:\", multiplicacion)\n",
    "print(\"La suma es:\", suma)\n"
   ]
  },
  {
   "cell_type": "code",
   "execution_count": 2,
   "metadata": {},
   "outputs": [
    {
     "name": "stdout",
     "output_type": "stream",
     "text": [
      "La multiplicación es: 15\n",
      "La suma es: 8\n"
     ]
    }
   ],
   "source": [
    "# Multiplicar y sumar números\n",
    "\n",
    "a = 5\n",
    "b = 3\n",
    "\n",
    "multiplicacion = a * b\n",
    "suma = a + b\n",
    "\n",
    "print(\"La multiplicación es:\", multiplicacion)\n",
    "print(\"La suma es:\", suma)\n"
   ]
  },
  {
   "cell_type": "markdown",
   "metadata": {},
   "source": [
    "# Multiplicar y sumar números\n",
    "\n",
    "a = 5\n",
    "b = 3\n",
    "\n",
    "multiplicacion = a * b\n",
    "suma = a + b\n",
    "\n",
    "print(\"La multiplicación es:\", multiplicacion)\n",
    "print(\"La suma es:\", suma)\n"
   ]
  },
  {
   "cell_type": "code",
   "execution_count": 3,
   "metadata": {},
   "outputs": [
    {
     "name": "stdout",
     "output_type": "stream",
     "text": [
      "150 minutos equivalen a 2.5 horas\n"
     ]
    }
   ],
   "source": [
    "# Convertir minutos en horas\n",
    "\n",
    "minutos = 150  # Puedes cambiar este valor\n",
    "horas = minutos / 60\n",
    "\n",
    "print(f\"{minutos} minutos equivalen a {horas} horas\")\n"
   ]
  },
  {
   "cell_type": "code",
   "execution_count": 4,
   "metadata": {},
   "outputs": [
    {
     "name": "stdout",
     "output_type": "stream",
     "text": [
      "1. Analizar datos históricos\n",
      "2. Desarrollar un modelo predictivo\n",
      "3. Validar resultados con datos reales\n",
      "4. Implementar modelo en producción\n"
     ]
    }
   ],
   "source": [
    "# Lista de objetivos\n",
    "objetivos = [\n",
    "    \"Analizar datos históricos\",\n",
    "    \"Desarrollar un modelo predictivo\",\n",
    "    \"Validar resultados con datos reales\",\n",
    "    \"Implementar modelo en producción\"\n",
    "]\n",
    "\n",
    "# Mostrar los objetivos\n",
    "for i, objetivo in enumerate(objetivos, 1):\n",
    "    print(f\"{i}. {objetivo}\")\n"
   ]
  },
  {
   "cell_type": "markdown",
   "metadata": {},
   "source": [
    "**Autor:** Ariel Sarmiento\n"
   ]
  },
  {
   "cell_type": "code",
   "execution_count": null,
   "metadata": {},
   "outputs": [],
   "source": []
  }
 ],
 "metadata": {
  "kernelspec": {
   "display_name": "Python 3 (ipykernel)",
   "language": "python",
   "name": "python3"
  },
  "language_info": {
   "codemirror_mode": {
    "name": "ipython",
    "version": 3
   },
   "file_extension": ".py",
   "mimetype": "text/x-python",
   "name": "python",
   "nbconvert_exporter": "python",
   "pygments_lexer": "ipython3",
   "version": "3.12.8"
  }
 },
 "nbformat": 4,
 "nbformat_minor": 4
}
